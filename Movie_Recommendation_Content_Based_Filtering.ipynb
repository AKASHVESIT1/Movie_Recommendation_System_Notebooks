{
 "cells": [
  {
   "cell_type": "code",
   "execution_count": 3,
   "id": "6291a6c3-94c4-4e35-864c-64ad2fa5095f",
   "metadata": {},
   "outputs": [
    {
     "name": "stdin",
     "output_type": "stream",
     "text": [
      "Enter Your Movie Titanic\n"
     ]
    },
    {
     "name": "stdout",
     "output_type": "stream",
     "text": [
      "Movies similar to 'Titanic':\n",
      "Starship Troopers\n",
      "Salsa\n",
      "The Man with the Golden Gun\n",
      "First Love, Last Rites\n",
      "Mad Dog Time\n",
      "American Pie 2\n",
      "Johnny Be Good\n",
      "Goodbye Lover\n",
      "Crouching Tiger, Hidden Dragon\n",
      "The General\n"
     ]
    },
    {
     "data": {
      "text/plain": [
       "0"
      ]
     },
     "execution_count": 3,
     "metadata": {},
     "output_type": "execute_result"
    }
   ],
   "source": [
    "#-------MOVIE_RECOMMENDATION_USING_CONTENT_BASED_FILTERING------\n",
    "\n",
    "import pandas as pd\n",
    "from sklearn.feature_extraction.text import TfidfVectorizer\n",
    "from sklearn.metrics.pairwise import cosine_similarity\n",
    "import gc\n",
    "\n",
    "# Load only required columns and limit rows to avoid memory error\n",
    "df = pd.read_csv(\n",
    "    r'C:\\Users\\ASUS\\MISHU_MACHINE_LEARNING\\movies_metadata.csv',\n",
    "    usecols=['title', 'overview'],\n",
    "    nrows=5000,\n",
    "    low_memory=False\n",
    ")\n",
    "\n",
    "df = df.dropna()\n",
    "\n",
    "vectorizer = TfidfVectorizer(stop_words='english')\n",
    "tfidf_matrix = vectorizer.fit_transform(df['overview'])\n",
    "\n",
    "cosine_sim = cosine_similarity(tfidf_matrix, tfidf_matrix)\n",
    "\n",
    "# Free unused memory\n",
    "del tfidf_matrix\n",
    "gc.collect()\n",
    "\n",
    "def get_recommendations(title, cosine_sim=cosine_sim):\n",
    "    idx = df.index[df['title'] == title].tolist()\n",
    "    if not idx:\n",
    "        return \"Movie not found in dataset.\"\n",
    "    idx = idx[0]\n",
    "    sim_scores = list(enumerate(cosine_sim[idx]))\n",
    "    sim_scores = sorted(sim_scores, key=lambda x: x[1], reverse=True)\n",
    "    sim_scores = sim_scores[1:11]\n",
    "    movie_indices = [i[0] for i in sim_scores]\n",
    "    return df['title'].iloc[movie_indices].tolist()\n",
    "\n",
    "movie_name = input(\"Enter Your Movie\") #At this moment would work only for a few movies as the data reading size is kept minimal to avoid memory issues\n",
    "recommendations = get_recommendations(movie_name)\n",
    "print(f\"Movies similar to '{movie_name}':\")\n",
    "for movie in recommendations:\n",
    "    print(movie)\n",
    "\n",
    "# Clean up memory\n",
    "del cosine_sim\n",
    "gc.collect()"
   ]
  },
  {
   "cell_type": "code",
   "execution_count": null,
   "id": "5a564d66-2a1c-49fb-8ae6-809312d09d73",
   "metadata": {},
   "outputs": [],
   "source": []
  }
 ],
 "metadata": {
  "kernelspec": {
   "display_name": "Python 3 (ipykernel)",
   "language": "python",
   "name": "python3"
  },
  "language_info": {
   "codemirror_mode": {
    "name": "ipython",
    "version": 3
   },
   "file_extension": ".py",
   "mimetype": "text/x-python",
   "name": "python",
   "nbconvert_exporter": "python",
   "pygments_lexer": "ipython3",
   "version": "3.12.7"
  }
 },
 "nbformat": 4,
 "nbformat_minor": 5
}
